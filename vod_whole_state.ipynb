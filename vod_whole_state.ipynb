{
 "cells": [
  {
   "cell_type": "code",
   "execution_count": 1,
   "metadata": {
    "collapsed": true
   },
   "outputs": [],
   "source": [
    "import pandas as pd\n",
    "import numpy as np\n",
    "import ephem\n",
    "import matplotlib.pyplot as plt\n",
    "import os\n",
    "\n",
    "%matplotlib inline"
   ]
  },
  {
   "cell_type": "code",
   "execution_count": 2,
   "metadata": {
    "collapsed": true
   },
   "outputs": [],
   "source": [
    "csvFiles = [f for f in os.listdir('texas_county')]\n",
    "    "
   ]
  },
  {
   "cell_type": "code",
   "execution_count": 20,
   "metadata": {},
   "outputs": [
    {
     "data": {
      "text/plain": [
       "'Swisher County.csv'"
      ]
     },
     "execution_count": 20,
     "metadata": {},
     "output_type": "execute_result"
    }
   ],
   "source": [
    "csvFiles[245]"
   ]
  },
  {
   "cell_type": "code",
   "execution_count": 4,
   "metadata": {
    "collapsed": true
   },
   "outputs": [],
   "source": [
    "def EndtimeCivilTwilight(dates):\n",
    "    \n",
    "    '''\n",
    "    End civil twilight function takes in the dates for all the stops in the \n",
    "    paper. \n",
    "    \n",
    "    '''\n",
    "    \n",
    "    # set the location Houston\n",
    "    end_twilight = []\n",
    "\n",
    "    # set the location Houston\n",
    "    obs = ephem.Observer()\n",
    "    \n",
    "    # converting the lat lon to radian which is the unit for ephem\n",
    "    obs.lat = np.deg2rad(mean_lat)\n",
    "    obs.long = np.deg2rad(mean_lon)\n",
    "\n",
    "    obs.horizon = '-6'\n",
    "\n",
    "    # all the civil twilight time for each unique time on which the stop occurred\n",
    "    for d in all_dates_str:\n",
    "        obs.date = d\n",
    "\n",
    "        #foo = ephem.Date(houston.next_setting(ephem.Sun(), use_center=True))\n",
    "        foo = obs.next_setting(ephem.Sun(), use_center=True)\n",
    "\n",
    "        end_twilight.append(ephem.localtime(foo))\n",
    "\n",
    "    return end_twilight"
   ]
  },
  {
   "cell_type": "code",
   "execution_count": 5,
   "metadata": {
    "collapsed": true
   },
   "outputs": [],
   "source": [
    "def beforeAfter(df, end_twilight):\n",
    "    \n",
    "    '''\n",
    "    This function suppose to tell you \n",
    "    It takes input of the dataframe and a list of end civil twilight time for each date\n",
    "    the output is a string for each stop determines whether stop occurs before or after \n",
    "    the sun has set. For before darkness fallen is marked BD and after darkness is marked\n",
    "    with AD\n",
    "    '''\n",
    "    \n",
    "# calculate the before dailight or after day light for each stops \n",
    "    bf_af = []\n",
    "\n",
    "    for i in range(df.shape[0]):\n",
    "\n",
    "        # get the timestamps for stops\n",
    "        ts = df.iloc[i, 27]\n",
    "\n",
    "        # check if the date will twilight \n",
    "        for d in range(len(end_twilight)):\n",
    "            \n",
    "            # find for each date\n",
    "            if (ts.date() == end_twilight[d].date()):\n",
    "        \n",
    "                # compare the timestamp to the end civil twilight time and mark with in\n",
    "                if (ts < end_twilight[d]):\n",
    "                    bf_af.append('BD')\n",
    "\n",
    "                else:      \n",
    "                    bf_af.append('AD')\n",
    "                    \n",
    "    return bf_af\n"
   ]
  },
  {
   "cell_type": "code",
   "execution_count": 6,
   "metadata": {
    "collapsed": true
   },
   "outputs": [],
   "source": [
    "def ratioFactor(df):\n",
    "\n",
    "    '''\n",
    "    This function takes stops for each race and divide them by whether\n",
    "    daylight is present. Then counts for each race in each county is tallied. \n",
    "    '''\n",
    "    wb = df[df.driver_race == 'White'].groupby('light_or_dark').count().iloc[0, 0]\n",
    "    wa = df[df.driver_race == 'White'].groupby('light_or_dark').count().iloc[1, 0]\n",
    "    \n",
    "    bb = df[df.driver_race == 'Black'].groupby('light_or_dark').count().iloc[0, 0]\n",
    "    ba = df[df.driver_race == 'Black'].groupby('light_or_dark').count().iloc[1, 0]\n",
    "    \n",
    "    hb = df[df.driver_race == 'Hispanic'].groupby('light_or_dark').count().iloc[0, 0]\n",
    "    ha = df[df.driver_race == 'Hispanic'].groupby('light_or_dark').count().iloc[1, 0]\n",
    "   \n",
    "    ab = df[df.driver_race == 'Asian'].groupby('light_or_dark').count().iloc[0, 0]\n",
    "    aa = df[df.driver_race == 'Asian'].groupby('light_or_dark').count().iloc[1, 0]    \n",
    "    # black\n",
    "    br = ((bb / (ab + wb + bb + hb)), (ba / (aa + wa + ba + ha)))\n",
    "    wr = ((wb / (ab + wb + bb + hb)), (wa / (aa + wa + ba + ha)))\n",
    "    hr = ((hb / (ab + wb + bb + hb)), (ha / (aa + wa + ba + ha)))\n",
    "    ar = ((ab / (ab + wb + bb + hb)), (aa / (aa + wa + ba + ha)))\n",
    "    \n",
    "    return br, wr, hr, ar"
   ]
  },
  {
   "cell_type": "code",
   "execution_count": 38,
   "metadata": {},
   "outputs": [
    {
     "name": "stderr",
     "output_type": "stream",
     "text": [
      "/Users/tedu/anaconda3/lib/python3.6/site-packages/IPython/core/interactiveshell.py:2698: DtypeWarning: Columns (25) have mixed types. Specify dtype option on import or set low_memory=False.\n",
      "  interactivity=interactivity, compiler=compiler, result=result)\n"
     ]
    },
    {
     "ename": "IndexError",
     "evalue": "single positional indexer is out-of-bounds",
     "output_type": "error",
     "traceback": [
      "\u001b[0;31m---------------------------------------------------------------------------\u001b[0m",
      "\u001b[0;31mIndexError\u001b[0m                                Traceback (most recent call last)",
      "\u001b[0;32m<ipython-input-38-4059405535ef>\u001b[0m in \u001b[0;36m<module>\u001b[0;34m()\u001b[0m\n\u001b[1;32m     28\u001b[0m \u001b[0;34m\u001b[0m\u001b[0m\n\u001b[1;32m     29\u001b[0m     \u001b[0;31m# Calculate the ratio of stop population before and after dark for each racial identity\u001b[0m\u001b[0;34m\u001b[0m\u001b[0;34m\u001b[0m\u001b[0m\n\u001b[0;32m---> 30\u001b[0;31m     \u001b[0mbr\u001b[0m\u001b[0;34m,\u001b[0m \u001b[0mwr\u001b[0m\u001b[0;34m,\u001b[0m \u001b[0mhr\u001b[0m\u001b[0;34m,\u001b[0m \u001b[0mar\u001b[0m\u001b[0;34m=\u001b[0m \u001b[0mratioFactor\u001b[0m\u001b[0;34m(\u001b[0m\u001b[0mdf\u001b[0m\u001b[0;34m)\u001b[0m\u001b[0;34m\u001b[0m\u001b[0m\n\u001b[0m\u001b[1;32m     31\u001b[0m \u001b[0;34m\u001b[0m\u001b[0m\n\u001b[1;32m     32\u001b[0m     \u001b[0mresult\u001b[0m \u001b[0;34m=\u001b[0m \u001b[0mresult\u001b[0m\u001b[0;34m.\u001b[0m\u001b[0mappend\u001b[0m\u001b[0;34m(\u001b[0m\u001b[0;34m{\u001b[0m\u001b[0;34m'County'\u001b[0m\u001b[0;34m:\u001b[0m \u001b[0mf\u001b[0m\u001b[0;34m.\u001b[0m\u001b[0msplit\u001b[0m\u001b[0;34m(\u001b[0m\u001b[0;34m'.'\u001b[0m\u001b[0;34m)\u001b[0m\u001b[0;34m[\u001b[0m\u001b[0;36m0\u001b[0m\u001b[0;34m]\u001b[0m\u001b[0;34m,\u001b[0m \u001b[0;34m'Black'\u001b[0m\u001b[0;34m:\u001b[0m \u001b[0mbr\u001b[0m\u001b[0;34m,\u001b[0m \u001b[0;34m'White'\u001b[0m\u001b[0;34m:\u001b[0m \u001b[0mwr\u001b[0m\u001b[0;34m,\u001b[0m \u001b[0;34m'Hispanic'\u001b[0m\u001b[0;34m:\u001b[0m \u001b[0mhr\u001b[0m\u001b[0;34m,\u001b[0m \u001b[0;34m'Asian'\u001b[0m\u001b[0;34m:\u001b[0m \u001b[0mar\u001b[0m \u001b[0;34m}\u001b[0m\u001b[0;34m,\u001b[0m \u001b[0mignore_index\u001b[0m\u001b[0;34m=\u001b[0m\u001b[0;32mTrue\u001b[0m\u001b[0;34m)\u001b[0m\u001b[0;34m\u001b[0m\u001b[0m\n",
      "\u001b[0;32m<ipython-input-6-8aff8d12607c>\u001b[0m in \u001b[0;36mratioFactor\u001b[0;34m(df)\u001b[0m\n\u001b[1;32m     15\u001b[0m \u001b[0;34m\u001b[0m\u001b[0m\n\u001b[1;32m     16\u001b[0m     \u001b[0mab\u001b[0m \u001b[0;34m=\u001b[0m \u001b[0mdf\u001b[0m\u001b[0;34m[\u001b[0m\u001b[0mdf\u001b[0m\u001b[0;34m.\u001b[0m\u001b[0mdriver_race\u001b[0m \u001b[0;34m==\u001b[0m \u001b[0;34m'Asian'\u001b[0m\u001b[0;34m]\u001b[0m\u001b[0;34m.\u001b[0m\u001b[0mgroupby\u001b[0m\u001b[0;34m(\u001b[0m\u001b[0;34m'light_or_dark'\u001b[0m\u001b[0;34m)\u001b[0m\u001b[0;34m.\u001b[0m\u001b[0mcount\u001b[0m\u001b[0;34m(\u001b[0m\u001b[0;34m)\u001b[0m\u001b[0;34m.\u001b[0m\u001b[0miloc\u001b[0m\u001b[0;34m[\u001b[0m\u001b[0;36m0\u001b[0m\u001b[0;34m,\u001b[0m \u001b[0;36m0\u001b[0m\u001b[0;34m]\u001b[0m\u001b[0;34m\u001b[0m\u001b[0m\n\u001b[0;32m---> 17\u001b[0;31m     \u001b[0maa\u001b[0m \u001b[0;34m=\u001b[0m \u001b[0mdf\u001b[0m\u001b[0;34m[\u001b[0m\u001b[0mdf\u001b[0m\u001b[0;34m.\u001b[0m\u001b[0mdriver_race\u001b[0m \u001b[0;34m==\u001b[0m \u001b[0;34m'Asian'\u001b[0m\u001b[0;34m]\u001b[0m\u001b[0;34m.\u001b[0m\u001b[0mgroupby\u001b[0m\u001b[0;34m(\u001b[0m\u001b[0;34m'light_or_dark'\u001b[0m\u001b[0;34m)\u001b[0m\u001b[0;34m.\u001b[0m\u001b[0mcount\u001b[0m\u001b[0;34m(\u001b[0m\u001b[0;34m)\u001b[0m\u001b[0;34m.\u001b[0m\u001b[0miloc\u001b[0m\u001b[0;34m[\u001b[0m\u001b[0;36m1\u001b[0m\u001b[0;34m,\u001b[0m \u001b[0;36m0\u001b[0m\u001b[0;34m]\u001b[0m\u001b[0;34m\u001b[0m\u001b[0m\n\u001b[0m\u001b[1;32m     18\u001b[0m     \u001b[0;31m# black\u001b[0m\u001b[0;34m\u001b[0m\u001b[0;34m\u001b[0m\u001b[0m\n\u001b[1;32m     19\u001b[0m     \u001b[0mbr\u001b[0m \u001b[0;34m=\u001b[0m \u001b[0;34m(\u001b[0m\u001b[0;34m(\u001b[0m\u001b[0mbb\u001b[0m \u001b[0;34m/\u001b[0m \u001b[0;34m(\u001b[0m\u001b[0mab\u001b[0m \u001b[0;34m+\u001b[0m \u001b[0mwb\u001b[0m \u001b[0;34m+\u001b[0m \u001b[0mbb\u001b[0m \u001b[0;34m+\u001b[0m \u001b[0mhb\u001b[0m\u001b[0;34m)\u001b[0m\u001b[0;34m)\u001b[0m\u001b[0;34m,\u001b[0m \u001b[0;34m(\u001b[0m\u001b[0mba\u001b[0m \u001b[0;34m/\u001b[0m \u001b[0;34m(\u001b[0m\u001b[0maa\u001b[0m \u001b[0;34m+\u001b[0m \u001b[0mwa\u001b[0m \u001b[0;34m+\u001b[0m \u001b[0mba\u001b[0m \u001b[0;34m+\u001b[0m \u001b[0mha\u001b[0m\u001b[0;34m)\u001b[0m\u001b[0;34m)\u001b[0m\u001b[0;34m)\u001b[0m\u001b[0;34m\u001b[0m\u001b[0m\n",
      "\u001b[0;32m~/anaconda3/lib/python3.6/site-packages/pandas/core/indexing.py\u001b[0m in \u001b[0;36m__getitem__\u001b[0;34m(self, key)\u001b[0m\n\u001b[1;32m   1323\u001b[0m             \u001b[0;32mexcept\u001b[0m \u001b[0;34m(\u001b[0m\u001b[0mKeyError\u001b[0m\u001b[0;34m,\u001b[0m \u001b[0mIndexError\u001b[0m\u001b[0;34m)\u001b[0m\u001b[0;34m:\u001b[0m\u001b[0;34m\u001b[0m\u001b[0m\n\u001b[1;32m   1324\u001b[0m                 \u001b[0;32mpass\u001b[0m\u001b[0;34m\u001b[0m\u001b[0m\n\u001b[0;32m-> 1325\u001b[0;31m             \u001b[0;32mreturn\u001b[0m \u001b[0mself\u001b[0m\u001b[0;34m.\u001b[0m\u001b[0m_getitem_tuple\u001b[0m\u001b[0;34m(\u001b[0m\u001b[0mkey\u001b[0m\u001b[0;34m)\u001b[0m\u001b[0;34m\u001b[0m\u001b[0m\n\u001b[0m\u001b[1;32m   1326\u001b[0m         \u001b[0;32melse\u001b[0m\u001b[0;34m:\u001b[0m\u001b[0;34m\u001b[0m\u001b[0m\n\u001b[1;32m   1327\u001b[0m             \u001b[0mkey\u001b[0m \u001b[0;34m=\u001b[0m \u001b[0mcom\u001b[0m\u001b[0;34m.\u001b[0m\u001b[0m_apply_if_callable\u001b[0m\u001b[0;34m(\u001b[0m\u001b[0mkey\u001b[0m\u001b[0;34m,\u001b[0m \u001b[0mself\u001b[0m\u001b[0;34m.\u001b[0m\u001b[0mobj\u001b[0m\u001b[0;34m)\u001b[0m\u001b[0;34m\u001b[0m\u001b[0m\n",
      "\u001b[0;32m~/anaconda3/lib/python3.6/site-packages/pandas/core/indexing.py\u001b[0m in \u001b[0;36m_getitem_tuple\u001b[0;34m(self, tup)\u001b[0m\n\u001b[1;32m   1660\u001b[0m     \u001b[0;32mdef\u001b[0m \u001b[0m_getitem_tuple\u001b[0m\u001b[0;34m(\u001b[0m\u001b[0mself\u001b[0m\u001b[0;34m,\u001b[0m \u001b[0mtup\u001b[0m\u001b[0;34m)\u001b[0m\u001b[0;34m:\u001b[0m\u001b[0;34m\u001b[0m\u001b[0m\n\u001b[1;32m   1661\u001b[0m \u001b[0;34m\u001b[0m\u001b[0m\n\u001b[0;32m-> 1662\u001b[0;31m         \u001b[0mself\u001b[0m\u001b[0;34m.\u001b[0m\u001b[0m_has_valid_tuple\u001b[0m\u001b[0;34m(\u001b[0m\u001b[0mtup\u001b[0m\u001b[0;34m)\u001b[0m\u001b[0;34m\u001b[0m\u001b[0m\n\u001b[0m\u001b[1;32m   1663\u001b[0m         \u001b[0;32mtry\u001b[0m\u001b[0;34m:\u001b[0m\u001b[0;34m\u001b[0m\u001b[0m\n\u001b[1;32m   1664\u001b[0m             \u001b[0;32mreturn\u001b[0m \u001b[0mself\u001b[0m\u001b[0;34m.\u001b[0m\u001b[0m_getitem_lowerdim\u001b[0m\u001b[0;34m(\u001b[0m\u001b[0mtup\u001b[0m\u001b[0;34m)\u001b[0m\u001b[0;34m\u001b[0m\u001b[0m\n",
      "\u001b[0;32m~/anaconda3/lib/python3.6/site-packages/pandas/core/indexing.py\u001b[0m in \u001b[0;36m_has_valid_tuple\u001b[0;34m(self, key)\u001b[0m\n\u001b[1;32m    187\u001b[0m             \u001b[0;32mif\u001b[0m \u001b[0mi\u001b[0m \u001b[0;34m>=\u001b[0m \u001b[0mself\u001b[0m\u001b[0;34m.\u001b[0m\u001b[0mobj\u001b[0m\u001b[0;34m.\u001b[0m\u001b[0mndim\u001b[0m\u001b[0;34m:\u001b[0m\u001b[0;34m\u001b[0m\u001b[0m\n\u001b[1;32m    188\u001b[0m                 \u001b[0;32mraise\u001b[0m \u001b[0mIndexingError\u001b[0m\u001b[0;34m(\u001b[0m\u001b[0;34m'Too many indexers'\u001b[0m\u001b[0;34m)\u001b[0m\u001b[0;34m\u001b[0m\u001b[0m\n\u001b[0;32m--> 189\u001b[0;31m             \u001b[0;32mif\u001b[0m \u001b[0;32mnot\u001b[0m \u001b[0mself\u001b[0m\u001b[0;34m.\u001b[0m\u001b[0m_has_valid_type\u001b[0m\u001b[0;34m(\u001b[0m\u001b[0mk\u001b[0m\u001b[0;34m,\u001b[0m \u001b[0mi\u001b[0m\u001b[0;34m)\u001b[0m\u001b[0;34m:\u001b[0m\u001b[0;34m\u001b[0m\u001b[0m\n\u001b[0m\u001b[1;32m    190\u001b[0m                 raise ValueError(\"Location based indexing can only have [%s] \"\n\u001b[1;32m    191\u001b[0m                                  \"types\" % self._valid_types)\n",
      "\u001b[0;32m~/anaconda3/lib/python3.6/site-packages/pandas/core/indexing.py\u001b[0m in \u001b[0;36m_has_valid_type\u001b[0;34m(self, key, axis)\u001b[0m\n\u001b[1;32m   1595\u001b[0m             \u001b[0;32mreturn\u001b[0m \u001b[0;32mTrue\u001b[0m\u001b[0;34m\u001b[0m\u001b[0m\n\u001b[1;32m   1596\u001b[0m         \u001b[0;32melif\u001b[0m \u001b[0mis_integer\u001b[0m\u001b[0;34m(\u001b[0m\u001b[0mkey\u001b[0m\u001b[0;34m)\u001b[0m\u001b[0;34m:\u001b[0m\u001b[0;34m\u001b[0m\u001b[0m\n\u001b[0;32m-> 1597\u001b[0;31m             \u001b[0;32mreturn\u001b[0m \u001b[0mself\u001b[0m\u001b[0;34m.\u001b[0m\u001b[0m_is_valid_integer\u001b[0m\u001b[0;34m(\u001b[0m\u001b[0mkey\u001b[0m\u001b[0;34m,\u001b[0m \u001b[0maxis\u001b[0m\u001b[0;34m)\u001b[0m\u001b[0;34m\u001b[0m\u001b[0m\n\u001b[0m\u001b[1;32m   1598\u001b[0m         \u001b[0;32melif\u001b[0m \u001b[0mis_list_like_indexer\u001b[0m\u001b[0;34m(\u001b[0m\u001b[0mkey\u001b[0m\u001b[0;34m)\u001b[0m\u001b[0;34m:\u001b[0m\u001b[0;34m\u001b[0m\u001b[0m\n\u001b[1;32m   1599\u001b[0m             \u001b[0;32mreturn\u001b[0m \u001b[0mself\u001b[0m\u001b[0;34m.\u001b[0m\u001b[0m_is_valid_list_like\u001b[0m\u001b[0;34m(\u001b[0m\u001b[0mkey\u001b[0m\u001b[0;34m,\u001b[0m \u001b[0maxis\u001b[0m\u001b[0;34m)\u001b[0m\u001b[0;34m\u001b[0m\u001b[0m\n",
      "\u001b[0;32m~/anaconda3/lib/python3.6/site-packages/pandas/core/indexing.py\u001b[0m in \u001b[0;36m_is_valid_integer\u001b[0;34m(self, key, axis)\u001b[0m\n\u001b[1;32m   1636\u001b[0m         \u001b[0ml\u001b[0m \u001b[0;34m=\u001b[0m \u001b[0mlen\u001b[0m\u001b[0;34m(\u001b[0m\u001b[0max\u001b[0m\u001b[0;34m)\u001b[0m\u001b[0;34m\u001b[0m\u001b[0m\n\u001b[1;32m   1637\u001b[0m         \u001b[0;32mif\u001b[0m \u001b[0mkey\u001b[0m \u001b[0;34m>=\u001b[0m \u001b[0ml\u001b[0m \u001b[0;32mor\u001b[0m \u001b[0mkey\u001b[0m \u001b[0;34m<\u001b[0m \u001b[0;34m-\u001b[0m\u001b[0ml\u001b[0m\u001b[0;34m:\u001b[0m\u001b[0;34m\u001b[0m\u001b[0m\n\u001b[0;32m-> 1638\u001b[0;31m             \u001b[0;32mraise\u001b[0m \u001b[0mIndexError\u001b[0m\u001b[0;34m(\u001b[0m\u001b[0;34m\"single positional indexer is out-of-bounds\"\u001b[0m\u001b[0;34m)\u001b[0m\u001b[0;34m\u001b[0m\u001b[0m\n\u001b[0m\u001b[1;32m   1639\u001b[0m         \u001b[0;32mreturn\u001b[0m \u001b[0;32mTrue\u001b[0m\u001b[0;34m\u001b[0m\u001b[0m\n\u001b[1;32m   1640\u001b[0m \u001b[0;34m\u001b[0m\u001b[0m\n",
      "\u001b[0;31mIndexError\u001b[0m: single positional indexer is out-of-bounds"
     ]
    }
   ],
   "source": [
    "# iterating through the file by their county files\n",
    "result = pd.DataFrame(columns=['County', 'White', 'Black', 'Hispanic', 'Asian'])\n",
    "\n",
    "for f in csvFiles[29:]:\n",
    "    \n",
    "    df = pd.read_csv('texas_county' + '/' + f)\n",
    "    \n",
    "    #df = df[df['lat'].notnull() & df['lon'].notnull()]\n",
    "    \n",
    "    # calculating the average lat and lon\n",
    "    mean_lat = df.lat.mean()\n",
    "    mean_lon = df.lon.mean()\n",
    "    \n",
    "    # Find out the unqie dates for the \n",
    "    all_dates_str = df['stop_date'].unique()  + [' 00:00:00'] * len(df['stop_date'].unique())\n",
    "    \n",
    "    #create datetime objects for all the stop time\n",
    "    df['stop_date_time'] = pd.to_datetime(df['stop_date'] + ' ' + df['stop_time'])\n",
    "    \n",
    "    # calculating the end of civil twilight for each date available \n",
    "    end_twilight = EndtimeCivilTwilight(all_dates_str)\n",
    "    \n",
    "    # Produce a \n",
    "    bf_af = beforeAfter(df, end_twilight)\n",
    "    \n",
    "    # attach the before or after \n",
    "    df['light_or_dark'] = pd.Series(bf_af)\n",
    "    \n",
    "    # Calculate the ratio of stop population before and after dark for each racial identity \n",
    "    br, wr, hr, ar= ratioFactor(df)\n",
    "    \n",
    "    result = result.append({'County': f.split('.')[0], 'Black': br, 'White': wr, 'Hispanic': hr, 'Asian': ar }, ignore_index=True)"
   ]
  },
  {
   "cell_type": "code",
   "execution_count": 39,
   "metadata": {},
   "outputs": [
    {
     "data": {
      "text/plain": [
       "(16, 5)"
      ]
     },
     "execution_count": 39,
     "metadata": {},
     "output_type": "execute_result"
    }
   ],
   "source": [
    "result.shape"
   ]
  },
  {
   "cell_type": "code",
   "execution_count": 40,
   "metadata": {},
   "outputs": [
    {
     "data": {
      "text/html": [
       "<div>\n",
       "<style>\n",
       "    .dataframe thead tr:only-child th {\n",
       "        text-align: right;\n",
       "    }\n",
       "\n",
       "    .dataframe thead th {\n",
       "        text-align: left;\n",
       "    }\n",
       "\n",
       "    .dataframe tbody tr th {\n",
       "        vertical-align: top;\n",
       "    }\n",
       "</style>\n",
       "<table border=\"1\" class=\"dataframe\">\n",
       "  <thead>\n",
       "    <tr style=\"text-align: right;\">\n",
       "      <th></th>\n",
       "      <th>County</th>\n",
       "      <th>White</th>\n",
       "      <th>Black</th>\n",
       "      <th>Hispanic</th>\n",
       "      <th>Asian</th>\n",
       "    </tr>\n",
       "  </thead>\n",
       "  <tbody>\n",
       "    <tr>\n",
       "      <th>0</th>\n",
       "      <td>Burnet County</td>\n",
       "      <td>(0.812906810605, 0.809152208501)</td>\n",
       "      <td>(0.0309572948087, 0.0316690658383)</td>\n",
       "      <td>(0.148039371329, 0.149885092305)</td>\n",
       "      <td>(0.00809652325766, 0.00929363335606)</td>\n",
       "    </tr>\n",
       "    <tr>\n",
       "      <th>1</th>\n",
       "      <td>Bastrop County</td>\n",
       "      <td>(0.682812311891, 0.674268329684)</td>\n",
       "      <td>(0.0973153015771, 0.0965173394999)</td>\n",
       "      <td>(0.187407199326, 0.197561235619)</td>\n",
       "      <td>(0.0324651872065, 0.0316530951971)</td>\n",
       "    </tr>\n",
       "    <tr>\n",
       "      <th>2</th>\n",
       "      <td>Comal County</td>\n",
       "      <td>(0.67508605852, 0.666284263959)</td>\n",
       "      <td>(0.0550344234079, 0.0546192893401)</td>\n",
       "      <td>(0.257314974182, 0.265644670051)</td>\n",
       "      <td>(0.0125645438898, 0.0134517766497)</td>\n",
       "    </tr>\n",
       "    <tr>\n",
       "      <th>3</th>\n",
       "      <td>Fayette County</td>\n",
       "      <td>(0.628867297366, 0.624432459551)</td>\n",
       "      <td>(0.108220403989, 0.110134202935)</td>\n",
       "      <td>(0.206724622859, 0.212266399097)</td>\n",
       "      <td>(0.0561876757862, 0.0531669384172)</td>\n",
       "    </tr>\n",
       "    <tr>\n",
       "      <th>4</th>\n",
       "      <td>Grimes County</td>\n",
       "      <td>(0.647681491429, 0.640047393365)</td>\n",
       "      <td>(0.179319061537, 0.178823782852)</td>\n",
       "      <td>(0.143297258867, 0.149784575614)</td>\n",
       "      <td>(0.0297021881665, 0.0313442481689)</td>\n",
       "    </tr>\n",
       "    <tr>\n",
       "      <th>5</th>\n",
       "      <td>Terry County</td>\n",
       "      <td>(0.703575388027, 0.68126791972)</td>\n",
       "      <td>(0.0365853658537, 0.0402994584263)</td>\n",
       "      <td>(0.253048780488, 0.272602739726)</td>\n",
       "      <td>(0.00679046563193, 0.00582988212807)</td>\n",
       "    </tr>\n",
       "    <tr>\n",
       "      <th>6</th>\n",
       "      <td>Concho County</td>\n",
       "      <td>(0.668640897756, 0.675540869131)</td>\n",
       "      <td>(0.0561097256858, 0.0523723424154)</td>\n",
       "      <td>(0.264027431421, 0.263856848931)</td>\n",
       "      <td>(0.0112219451372, 0.00822993952241)</td>\n",
       "    </tr>\n",
       "    <tr>\n",
       "      <th>7</th>\n",
       "      <td>Montague County</td>\n",
       "      <td>(0.820910392926, 0.823772850604)</td>\n",
       "      <td>(0.0675010897316, 0.0671060925809)</td>\n",
       "      <td>(0.0998816862818, 0.0973360374928)</td>\n",
       "      <td>(0.0117068310605, 0.011785019322)</td>\n",
       "    </tr>\n",
       "    <tr>\n",
       "      <th>8</th>\n",
       "      <td>Dallam County</td>\n",
       "      <td>(0.767216009417, 0.768820391227)</td>\n",
       "      <td>(0.0303119482048, 0.0317624975301)</td>\n",
       "      <td>(0.191288993526, 0.18820391227)</td>\n",
       "      <td>(0.0111830488523, 0.0112131989725)</td>\n",
       "    </tr>\n",
       "    <tr>\n",
       "      <th>9</th>\n",
       "      <td>Reagan County</td>\n",
       "      <td>(0.676300578035, 0.69326591925)</td>\n",
       "      <td>(0.0332369942197, 0.0247673481351)</td>\n",
       "      <td>(0.287572254335, 0.279841723456)</td>\n",
       "      <td>(0.0028901734104, 0.00212500915952)</td>\n",
       "    </tr>\n",
       "    <tr>\n",
       "      <th>10</th>\n",
       "      <td>Hockley County</td>\n",
       "      <td>(0.606200386183, 0.607318723452)</td>\n",
       "      <td>(0.0453765286419, 0.0478517460437)</td>\n",
       "      <td>(0.343381248659, 0.340769837988)</td>\n",
       "      <td>(0.00504183651577, 0.00405969251588)</td>\n",
       "    </tr>\n",
       "    <tr>\n",
       "      <th>11</th>\n",
       "      <td>Tyler County</td>\n",
       "      <td>(0.812455175711, 0.812574770703)</td>\n",
       "      <td>(0.13758068372, 0.134609420001)</td>\n",
       "      <td>(0.0455414774086, 0.0475209357969)</td>\n",
       "      <td>(0.00442266316041, 0.00529487349905)</td>\n",
       "    </tr>\n",
       "    <tr>\n",
       "      <th>12</th>\n",
       "      <td>Andrews County</td>\n",
       "      <td>(0.68523081978, 0.622103523806)</td>\n",
       "      <td>(0.0267783801544, 0.0295507820005)</td>\n",
       "      <td>(0.285362247413, 0.344810360066)</td>\n",
       "      <td>(0.0026285526532, 0.0035353341275)</td>\n",
       "    </tr>\n",
       "    <tr>\n",
       "      <th>13</th>\n",
       "      <td>Harrison County</td>\n",
       "      <td>(0.662293168206, 0.667627420175)</td>\n",
       "      <td>(0.248857983961, 0.243946675292)</td>\n",
       "      <td>(0.0792051568369, 0.080223880597)</td>\n",
       "      <td>(0.00964369099584, 0.00820202393605)</td>\n",
       "    </tr>\n",
       "    <tr>\n",
       "      <th>14</th>\n",
       "      <td>Lampasas County</td>\n",
       "      <td>(0.810893357088, 0.805063033754)</td>\n",
       "      <td>(0.0465767370832, 0.0478853192355)</td>\n",
       "      <td>(0.131203868669, 0.136640910939)</td>\n",
       "      <td>(0.0113260371596, 0.0104107360716)</td>\n",
       "    </tr>\n",
       "    <tr>\n",
       "      <th>15</th>\n",
       "      <td>Kleberg County</td>\n",
       "      <td>(0.300875330191, 0.288066757209)</td>\n",
       "      <td>(0.0262081110478, 0.0279591516924)</td>\n",
       "      <td>(0.664629409023, 0.674676138738)</td>\n",
       "      <td>(0.00828714973844, 0.00929795236105)</td>\n",
       "    </tr>\n",
       "  </tbody>\n",
       "</table>\n",
       "</div>"
      ],
      "text/plain": [
       "             County                             White  \\\n",
       "0     Burnet County  (0.812906810605, 0.809152208501)   \n",
       "1    Bastrop County  (0.682812311891, 0.674268329684)   \n",
       "2      Comal County   (0.67508605852, 0.666284263959)   \n",
       "3    Fayette County  (0.628867297366, 0.624432459551)   \n",
       "4     Grimes County  (0.647681491429, 0.640047393365)   \n",
       "5      Terry County   (0.703575388027, 0.68126791972)   \n",
       "6     Concho County  (0.668640897756, 0.675540869131)   \n",
       "7   Montague County  (0.820910392926, 0.823772850604)   \n",
       "8     Dallam County  (0.767216009417, 0.768820391227)   \n",
       "9     Reagan County   (0.676300578035, 0.69326591925)   \n",
       "10   Hockley County  (0.606200386183, 0.607318723452)   \n",
       "11     Tyler County  (0.812455175711, 0.812574770703)   \n",
       "12   Andrews County   (0.68523081978, 0.622103523806)   \n",
       "13  Harrison County  (0.662293168206, 0.667627420175)   \n",
       "14  Lampasas County  (0.810893357088, 0.805063033754)   \n",
       "15   Kleberg County  (0.300875330191, 0.288066757209)   \n",
       "\n",
       "                                 Black                            Hispanic  \\\n",
       "0   (0.0309572948087, 0.0316690658383)    (0.148039371329, 0.149885092305)   \n",
       "1   (0.0973153015771, 0.0965173394999)    (0.187407199326, 0.197561235619)   \n",
       "2   (0.0550344234079, 0.0546192893401)    (0.257314974182, 0.265644670051)   \n",
       "3     (0.108220403989, 0.110134202935)    (0.206724622859, 0.212266399097)   \n",
       "4     (0.179319061537, 0.178823782852)    (0.143297258867, 0.149784575614)   \n",
       "5   (0.0365853658537, 0.0402994584263)    (0.253048780488, 0.272602739726)   \n",
       "6   (0.0561097256858, 0.0523723424154)    (0.264027431421, 0.263856848931)   \n",
       "7   (0.0675010897316, 0.0671060925809)  (0.0998816862818, 0.0973360374928)   \n",
       "8   (0.0303119482048, 0.0317624975301)     (0.191288993526, 0.18820391227)   \n",
       "9   (0.0332369942197, 0.0247673481351)    (0.287572254335, 0.279841723456)   \n",
       "10  (0.0453765286419, 0.0478517460437)    (0.343381248659, 0.340769837988)   \n",
       "11     (0.13758068372, 0.134609420001)  (0.0455414774086, 0.0475209357969)   \n",
       "12  (0.0267783801544, 0.0295507820005)    (0.285362247413, 0.344810360066)   \n",
       "13    (0.248857983961, 0.243946675292)   (0.0792051568369, 0.080223880597)   \n",
       "14  (0.0465767370832, 0.0478853192355)    (0.131203868669, 0.136640910939)   \n",
       "15  (0.0262081110478, 0.0279591516924)    (0.664629409023, 0.674676138738)   \n",
       "\n",
       "                                   Asian  \n",
       "0   (0.00809652325766, 0.00929363335606)  \n",
       "1     (0.0324651872065, 0.0316530951971)  \n",
       "2     (0.0125645438898, 0.0134517766497)  \n",
       "3     (0.0561876757862, 0.0531669384172)  \n",
       "4     (0.0297021881665, 0.0313442481689)  \n",
       "5   (0.00679046563193, 0.00582988212807)  \n",
       "6    (0.0112219451372, 0.00822993952241)  \n",
       "7      (0.0117068310605, 0.011785019322)  \n",
       "8     (0.0111830488523, 0.0112131989725)  \n",
       "9    (0.0028901734104, 0.00212500915952)  \n",
       "10  (0.00504183651577, 0.00405969251588)  \n",
       "11  (0.00442266316041, 0.00529487349905)  \n",
       "12    (0.0026285526532, 0.0035353341275)  \n",
       "13  (0.00964369099584, 0.00820202393605)  \n",
       "14    (0.0113260371596, 0.0104107360716)  \n",
       "15  (0.00828714973844, 0.00929795236105)  "
      ]
     },
     "execution_count": 40,
     "metadata": {},
     "output_type": "execute_result"
    }
   ],
   "source": [
    "result"
   ]
  },
  {
   "cell_type": "code",
   "execution_count": null,
   "metadata": {},
   "outputs": [],
   "source": [
    "result['White']"
   ]
  },
  {
   "cell_type": "code",
   "execution_count": null,
   "metadata": {
    "collapsed": true
   },
   "outputs": [],
   "source": [
    "result.to_csv('result_1.csv') # 1 - 16"
   ]
  },
  {
   "cell_type": "code",
   "execution_count": 37,
   "metadata": {
    "collapsed": true
   },
   "outputs": [],
   "source": [
    "# rerun\n",
    "result.to_csv('result_2.csv') # 18 - 28"
   ]
  },
  {
   "cell_type": "code",
   "execution_count": 41,
   "metadata": {
    "collapsed": true
   },
   "outputs": [],
   "source": [
    "# rerun\n",
    "result.to_csv('result_12.csv') # 30 - 45"
   ]
  },
  {
   "cell_type": "code",
   "execution_count": null,
   "metadata": {
    "collapsed": true
   },
   "outputs": [],
   "source": [
    "result.to_csv('result_3.csv') # 47 - 52"
   ]
  },
  {
   "cell_type": "code",
   "execution_count": null,
   "metadata": {
    "collapsed": true
   },
   "outputs": [],
   "source": [
    "result.to_csv('result_4.csv') # 54 - 69"
   ]
  },
  {
   "cell_type": "code",
   "execution_count": null,
   "metadata": {
    "collapsed": true
   },
   "outputs": [],
   "source": [
    "result.to_csv('result_5.csv') # 71 - 83"
   ]
  },
  {
   "cell_type": "code",
   "execution_count": null,
   "metadata": {
    "collapsed": true
   },
   "outputs": [],
   "source": [
    "result.to_csv('result_6.csv') # 85 - 124"
   ]
  },
  {
   "cell_type": "code",
   "execution_count": null,
   "metadata": {
    "collapsed": true
   },
   "outputs": [],
   "source": [
    "result.to_csv('result_7.csv')# 126 - 143"
   ]
  },
  {
   "cell_type": "code",
   "execution_count": 11,
   "metadata": {
    "collapsed": true
   },
   "outputs": [],
   "source": [
    "result.to_csv('result_8.csv')# 145 - 208"
   ]
  },
  {
   "cell_type": "code",
   "execution_count": 33,
   "metadata": {
    "collapsed": true
   },
   "outputs": [],
   "source": [
    "# rerun\n",
    "result.to_csv('result_9.csv')# 210 - 228"
   ]
  },
  {
   "cell_type": "code",
   "execution_count": 22,
   "metadata": {
    "collapsed": true
   },
   "outputs": [],
   "source": [
    "result.to_csv('result_10.csv')# 230 - 246"
   ]
  },
  {
   "cell_type": "code",
   "execution_count": 26,
   "metadata": {
    "collapsed": true
   },
   "outputs": [],
   "source": [
    "result.to_csv('result_11.csv')# 248 - 255"
   ]
  },
  {
   "cell_type": "code",
   "execution_count": null,
   "metadata": {
    "collapsed": true
   },
   "outputs": [],
   "source": [
    "df_1 = pd.read_csv('result_1.csv')\n",
    "df_2 = pd.read_csv('result_2.csv')\n",
    "df_3 = pd.read_csv('result_3.csv')\n",
    "\n",
    "df_4 = pd.read_csv('result_4.csv')\n",
    "\n",
    "df_5 = pd.read_csv('result_5.csv')\n",
    "\n"
   ]
  },
  {
   "cell_type": "code",
   "execution_count": 27,
   "metadata": {
    "collapsed": true
   },
   "outputs": [],
   "source": [
    "df_9 = pd.read_csv('result_9.csv')\n",
    "\n",
    "df_10 = pd.read_csv('result_10.csv')"
   ]
  },
  {
   "cell_type": "code",
   "execution_count": 28,
   "metadata": {},
   "outputs": [
    {
     "data": {
      "text/html": [
       "<div>\n",
       "<style>\n",
       "    .dataframe thead tr:only-child th {\n",
       "        text-align: right;\n",
       "    }\n",
       "\n",
       "    .dataframe thead th {\n",
       "        text-align: left;\n",
       "    }\n",
       "\n",
       "    .dataframe tbody tr th {\n",
       "        vertical-align: top;\n",
       "    }\n",
       "</style>\n",
       "<table border=\"1\" class=\"dataframe\">\n",
       "  <thead>\n",
       "    <tr style=\"text-align: right;\">\n",
       "      <th></th>\n",
       "      <th>Unnamed: 0</th>\n",
       "      <th>County</th>\n",
       "      <th>White</th>\n",
       "      <th>Black</th>\n",
       "      <th>Hispanic</th>\n",
       "      <th>Asian</th>\n",
       "    </tr>\n",
       "  </thead>\n",
       "  <tbody>\n",
       "    <tr>\n",
       "      <th>0</th>\n",
       "      <td>0</td>\n",
       "      <td>Aransas County</td>\n",
       "      <td>(0.77298629293084864, 0.75937371240214258)</td>\n",
       "      <td>(0.028338210380409672, 0.026576019777503089)</td>\n",
       "      <td>(0.18158016325273371, 0.19703337453646477)</td>\n",
       "      <td>(0.017095333436008008, 0.017016893283889577)</td>\n",
       "    </tr>\n",
       "    <tr>\n",
       "      <th>1</th>\n",
       "      <td>1</td>\n",
       "      <td>DeWitt County</td>\n",
       "      <td>(0.70146935849958192, 0.68352701628923318)</td>\n",
       "      <td>(0.062358141201768011, 0.060960468812077867)</td>\n",
       "      <td>(0.23079679847091147, 0.24970202622169249)</td>\n",
       "      <td>(0.0053757018277386217, 0.0058104886769964241)</td>\n",
       "    </tr>\n",
       "    <tr>\n",
       "      <th>2</th>\n",
       "      <td>2</td>\n",
       "      <td>Kinney County</td>\n",
       "      <td>(0.52170880557977328, 0.506438111487297)</td>\n",
       "      <td>(0.030863121185701829, 0.029564661032763721)</td>\n",
       "      <td>(0.44219703574542285, 0.45823891658446858)</td>\n",
       "      <td>(0.0052310374891020054, 0.005758310895470662)</td>\n",
       "    </tr>\n",
       "    <tr>\n",
       "      <th>3</th>\n",
       "      <td>3</td>\n",
       "      <td>Chambers County</td>\n",
       "      <td>(0.4950190977598844, 0.49321782145825016)</td>\n",
       "      <td>(0.31622277278827293, 0.31092019080398098)</td>\n",
       "      <td>(0.16501496851450398, 0.17125246193408233)</td>\n",
       "      <td>(0.023743160937338702, 0.02460952580368652)</td>\n",
       "    </tr>\n",
       "    <tr>\n",
       "      <th>4</th>\n",
       "      <td>4</td>\n",
       "      <td>Coryell County</td>\n",
       "      <td>(0.72970680881996608, 0.7286109282422647)</td>\n",
       "      <td>(0.13496486551974801, 0.13187623436471363)</td>\n",
       "      <td>(0.1245456748243276, 0.12708360763660304)</td>\n",
       "      <td>(0.010782650835958323, 0.012429229756418697)</td>\n",
       "    </tr>\n",
       "  </tbody>\n",
       "</table>\n",
       "</div>"
      ],
      "text/plain": [
       "   Unnamed: 0           County                                       White  \\\n",
       "0           0   Aransas County  (0.77298629293084864, 0.75937371240214258)   \n",
       "1           1    DeWitt County  (0.70146935849958192, 0.68352701628923318)   \n",
       "2           2    Kinney County    (0.52170880557977328, 0.506438111487297)   \n",
       "3           3  Chambers County   (0.4950190977598844, 0.49321782145825016)   \n",
       "4           4   Coryell County   (0.72970680881996608, 0.7286109282422647)   \n",
       "\n",
       "                                          Black  \\\n",
       "0  (0.028338210380409672, 0.026576019777503089)   \n",
       "1  (0.062358141201768011, 0.060960468812077867)   \n",
       "2  (0.030863121185701829, 0.029564661032763721)   \n",
       "3    (0.31622277278827293, 0.31092019080398098)   \n",
       "4    (0.13496486551974801, 0.13187623436471363)   \n",
       "\n",
       "                                     Hispanic  \\\n",
       "0  (0.18158016325273371, 0.19703337453646477)   \n",
       "1  (0.23079679847091147, 0.24970202622169249)   \n",
       "2  (0.44219703574542285, 0.45823891658446858)   \n",
       "3  (0.16501496851450398, 0.17125246193408233)   \n",
       "4   (0.1245456748243276, 0.12708360763660304)   \n",
       "\n",
       "                                            Asian  \n",
       "0    (0.017095333436008008, 0.017016893283889577)  \n",
       "1  (0.0053757018277386217, 0.0058104886769964241)  \n",
       "2   (0.0052310374891020054, 0.005758310895470662)  \n",
       "3     (0.023743160937338702, 0.02460952580368652)  \n",
       "4    (0.010782650835958323, 0.012429229756418697)  "
      ]
     },
     "execution_count": 28,
     "metadata": {},
     "output_type": "execute_result"
    }
   ],
   "source": [
    "df_9.head()"
   ]
  },
  {
   "cell_type": "code",
   "execution_count": 29,
   "metadata": {},
   "outputs": [
    {
     "data": {
      "text/html": [
       "<div>\n",
       "<style>\n",
       "    .dataframe thead tr:only-child th {\n",
       "        text-align: right;\n",
       "    }\n",
       "\n",
       "    .dataframe thead th {\n",
       "        text-align: left;\n",
       "    }\n",
       "\n",
       "    .dataframe tbody tr th {\n",
       "        vertical-align: top;\n",
       "    }\n",
       "</style>\n",
       "<table border=\"1\" class=\"dataframe\">\n",
       "  <thead>\n",
       "    <tr style=\"text-align: right;\">\n",
       "      <th></th>\n",
       "      <th>Unnamed: 0</th>\n",
       "      <th>County</th>\n",
       "      <th>White</th>\n",
       "      <th>Black</th>\n",
       "      <th>Hispanic</th>\n",
       "      <th>Asian</th>\n",
       "    </tr>\n",
       "  </thead>\n",
       "  <tbody>\n",
       "    <tr>\n",
       "      <th>0</th>\n",
       "      <td>0</td>\n",
       "      <td>Aransas County</td>\n",
       "      <td>(0.77298629293084864, 0.75937371240214258)</td>\n",
       "      <td>(0.028338210380409672, 0.026576019777503089)</td>\n",
       "      <td>(0.18158016325273371, 0.19703337453646477)</td>\n",
       "      <td>(0.017095333436008008, 0.017016893283889577)</td>\n",
       "    </tr>\n",
       "    <tr>\n",
       "      <th>1</th>\n",
       "      <td>1</td>\n",
       "      <td>DeWitt County</td>\n",
       "      <td>(0.70146935849958192, 0.68352701628923318)</td>\n",
       "      <td>(0.062358141201768011, 0.060960468812077867)</td>\n",
       "      <td>(0.23079679847091147, 0.24970202622169249)</td>\n",
       "      <td>(0.0053757018277386217, 0.0058104886769964241)</td>\n",
       "    </tr>\n",
       "    <tr>\n",
       "      <th>2</th>\n",
       "      <td>2</td>\n",
       "      <td>Kinney County</td>\n",
       "      <td>(0.52170880557977328, 0.506438111487297)</td>\n",
       "      <td>(0.030863121185701829, 0.029564661032763721)</td>\n",
       "      <td>(0.44219703574542285, 0.45823891658446858)</td>\n",
       "      <td>(0.0052310374891020054, 0.005758310895470662)</td>\n",
       "    </tr>\n",
       "    <tr>\n",
       "      <th>3</th>\n",
       "      <td>3</td>\n",
       "      <td>Chambers County</td>\n",
       "      <td>(0.4950190977598844, 0.49321782145825016)</td>\n",
       "      <td>(0.31622277278827293, 0.31092019080398098)</td>\n",
       "      <td>(0.16501496851450398, 0.17125246193408233)</td>\n",
       "      <td>(0.023743160937338702, 0.02460952580368652)</td>\n",
       "    </tr>\n",
       "    <tr>\n",
       "      <th>4</th>\n",
       "      <td>4</td>\n",
       "      <td>Coryell County</td>\n",
       "      <td>(0.72970680881996608, 0.7286109282422647)</td>\n",
       "      <td>(0.13496486551974801, 0.13187623436471363)</td>\n",
       "      <td>(0.1245456748243276, 0.12708360763660304)</td>\n",
       "      <td>(0.010782650835958323, 0.012429229756418697)</td>\n",
       "    </tr>\n",
       "  </tbody>\n",
       "</table>\n",
       "</div>"
      ],
      "text/plain": [
       "   Unnamed: 0           County                                       White  \\\n",
       "0           0   Aransas County  (0.77298629293084864, 0.75937371240214258)   \n",
       "1           1    DeWitt County  (0.70146935849958192, 0.68352701628923318)   \n",
       "2           2    Kinney County    (0.52170880557977328, 0.506438111487297)   \n",
       "3           3  Chambers County   (0.4950190977598844, 0.49321782145825016)   \n",
       "4           4   Coryell County   (0.72970680881996608, 0.7286109282422647)   \n",
       "\n",
       "                                          Black  \\\n",
       "0  (0.028338210380409672, 0.026576019777503089)   \n",
       "1  (0.062358141201768011, 0.060960468812077867)   \n",
       "2  (0.030863121185701829, 0.029564661032763721)   \n",
       "3    (0.31622277278827293, 0.31092019080398098)   \n",
       "4    (0.13496486551974801, 0.13187623436471363)   \n",
       "\n",
       "                                     Hispanic  \\\n",
       "0  (0.18158016325273371, 0.19703337453646477)   \n",
       "1  (0.23079679847091147, 0.24970202622169249)   \n",
       "2  (0.44219703574542285, 0.45823891658446858)   \n",
       "3  (0.16501496851450398, 0.17125246193408233)   \n",
       "4   (0.1245456748243276, 0.12708360763660304)   \n",
       "\n",
       "                                            Asian  \n",
       "0    (0.017095333436008008, 0.017016893283889577)  \n",
       "1  (0.0053757018277386217, 0.0058104886769964241)  \n",
       "2   (0.0052310374891020054, 0.005758310895470662)  \n",
       "3     (0.023743160937338702, 0.02460952580368652)  \n",
       "4    (0.010782650835958323, 0.012429229756418697)  "
      ]
     },
     "execution_count": 29,
     "metadata": {},
     "output_type": "execute_result"
    }
   ],
   "source": [
    "df_10.head()"
   ]
  },
  {
   "cell_type": "code",
   "execution_count": null,
   "metadata": {
    "collapsed": true
   },
   "outputs": [],
   "source": [
    "print(df_1.shape)\n",
    "df_1.head()"
   ]
  },
  {
   "cell_type": "code",
   "execution_count": 42,
   "metadata": {
    "collapsed": true
   },
   "outputs": [],
   "source": [
    "df_1 = pd.read_csv('result_1.csv')\n",
    "df_2 = pd.read_csv('result_2.csv')\n",
    "df_3 = pd.read_csv('result_3.csv')\n",
    "\n",
    "df_4 = pd.read_csv('result_4.csv')\n",
    "\n",
    "df_5 = pd.read_csv('result_5.csv')\n",
    "\n",
    "df_6 = pd.read_csv('result_6.csv')\n",
    "df_7 = pd.read_csv('result_7.csv')\n",
    "df_8 = pd.read_csv('result_8.csv')\n",
    "\n",
    "df_11 = pd.read_csv('result_11.csv')\n",
    "\n",
    "df_12 = pd.read_csv('result_12.csv')\n",
    "df_9 = pd.read_csv('result_9.csv')\n",
    "\n",
    "df_10 = pd.read_csv('result_10.csv')\n",
    "\n",
    "df = pd.concat([df_1, df_2, df_3, df_4, df_5, df_6, df_7, df_8, df_9, df_10, df_11, df_12], axis=0)"
   ]
  },
  {
   "cell_type": "code",
   "execution_count": 43,
   "metadata": {
    "scrolled": true
   },
   "outputs": [
    {
     "data": {
      "text/html": [
       "<div>\n",
       "<style>\n",
       "    .dataframe thead tr:only-child th {\n",
       "        text-align: right;\n",
       "    }\n",
       "\n",
       "    .dataframe thead th {\n",
       "        text-align: left;\n",
       "    }\n",
       "\n",
       "    .dataframe tbody tr th {\n",
       "        vertical-align: top;\n",
       "    }\n",
       "</style>\n",
       "<table border=\"1\" class=\"dataframe\">\n",
       "  <thead>\n",
       "    <tr style=\"text-align: right;\">\n",
       "      <th></th>\n",
       "      <th>Unnamed: 0</th>\n",
       "      <th>County</th>\n",
       "      <th>White</th>\n",
       "      <th>Black</th>\n",
       "      <th>Hispanic</th>\n",
       "      <th>Asian</th>\n",
       "    </tr>\n",
       "  </thead>\n",
       "  <tbody>\n",
       "    <tr>\n",
       "      <th>0</th>\n",
       "      <td>0</td>\n",
       "      <td>Callahan County</td>\n",
       "      <td>(0.719591901801371, 0.70568872607576116)</td>\n",
       "      <td>(0.10329985652797705, 0.10647447638767221)</td>\n",
       "      <td>(0.15797863860991551, 0.1691752276286799)</td>\n",
       "      <td>(0.019129603060736491, 0.018661569907886703)</td>\n",
       "    </tr>\n",
       "    <tr>\n",
       "      <th>1</th>\n",
       "      <td>1</td>\n",
       "      <td>Childress County</td>\n",
       "      <td>(0.75872850442939033, 0.74888112919883931)</td>\n",
       "      <td>(0.07000173701580685, 0.065386317808488664)</td>\n",
       "      <td>(0.14903595622720167, 0.16020754438597354)</td>\n",
       "      <td>(0.022233802327601183, 0.025525008606698471)</td>\n",
       "    </tr>\n",
       "    <tr>\n",
       "      <th>2</th>\n",
       "      <td>2</td>\n",
       "      <td>Fort Bend County</td>\n",
       "      <td>(0.42432873093513301, 0.43148697700021937)</td>\n",
       "      <td>(0.21975935442593852, 0.21500262819159724)</td>\n",
       "      <td>(0.27137638536313541, 0.27035606822537056)</td>\n",
       "      <td>(0.084535529275793039, 0.083154326582812868)</td>\n",
       "    </tr>\n",
       "    <tr>\n",
       "      <th>3</th>\n",
       "      <td>3</td>\n",
       "      <td>Brooks County</td>\n",
       "      <td>(0.2426098090519401, 0.25081343888300195)</td>\n",
       "      <td>(0.017480376329120972, 0.017091566415258993)</td>\n",
       "      <td>(0.73478817569448307, 0.7266845353113508)</td>\n",
       "      <td>(0.0051216389244558257, 0.0054104593903883313)</td>\n",
       "    </tr>\n",
       "    <tr>\n",
       "      <th>4</th>\n",
       "      <td>4</td>\n",
       "      <td>Tarrant County</td>\n",
       "      <td>(0.64107690257230443, 0.65282726883997477)</td>\n",
       "      <td>(0.15127282420365187, 0.15251165726619292)</td>\n",
       "      <td>(0.179661468745835, 0.16943251002830323)</td>\n",
       "      <td>(0.027988804478208718, 0.025228563865529109)</td>\n",
       "    </tr>\n",
       "  </tbody>\n",
       "</table>\n",
       "</div>"
      ],
      "text/plain": [
       "   Unnamed: 0            County                                       White  \\\n",
       "0           0   Callahan County    (0.719591901801371, 0.70568872607576116)   \n",
       "1           1  Childress County  (0.75872850442939033, 0.74888112919883931)   \n",
       "2           2  Fort Bend County  (0.42432873093513301, 0.43148697700021937)   \n",
       "3           3     Brooks County   (0.2426098090519401, 0.25081343888300195)   \n",
       "4           4    Tarrant County  (0.64107690257230443, 0.65282726883997477)   \n",
       "\n",
       "                                          Black  \\\n",
       "0    (0.10329985652797705, 0.10647447638767221)   \n",
       "1   (0.07000173701580685, 0.065386317808488664)   \n",
       "2    (0.21975935442593852, 0.21500262819159724)   \n",
       "3  (0.017480376329120972, 0.017091566415258993)   \n",
       "4    (0.15127282420365187, 0.15251165726619292)   \n",
       "\n",
       "                                     Hispanic  \\\n",
       "0   (0.15797863860991551, 0.1691752276286799)   \n",
       "1  (0.14903595622720167, 0.16020754438597354)   \n",
       "2  (0.27137638536313541, 0.27035606822537056)   \n",
       "3   (0.73478817569448307, 0.7266845353113508)   \n",
       "4    (0.179661468745835, 0.16943251002830323)   \n",
       "\n",
       "                                            Asian  \n",
       "0    (0.019129603060736491, 0.018661569907886703)  \n",
       "1    (0.022233802327601183, 0.025525008606698471)  \n",
       "2    (0.084535529275793039, 0.083154326582812868)  \n",
       "3  (0.0051216389244558257, 0.0054104593903883313)  \n",
       "4    (0.027988804478208718, 0.025228563865529109)  "
      ]
     },
     "execution_count": 43,
     "metadata": {},
     "output_type": "execute_result"
    }
   ],
   "source": [
    "df.head()"
   ]
  },
  {
   "cell_type": "code",
   "execution_count": 44,
   "metadata": {
    "collapsed": true
   },
   "outputs": [],
   "source": [
    "df.to_csv('final_result.csv')"
   ]
  },
  {
   "cell_type": "code",
   "execution_count": null,
   "metadata": {
    "collapsed": true
   },
   "outputs": [],
   "source": [
    "df.shape"
   ]
  },
  {
   "cell_type": "code",
   "execution_count": null,
   "metadata": {
    "collapsed": true
   },
   "outputs": [],
   "source": [
    "df.head()"
   ]
  },
  {
   "cell_type": "code",
   "execution_count": null,
   "metadata": {
    "collapsed": true
   },
   "outputs": [],
   "source": [
    "df_final.to_csv('all_result.csv')"
   ]
  },
  {
   "cell_type": "code",
   "execution_count": null,
   "metadata": {
    "collapsed": true
   },
   "outputs": [],
   "source": [
    "df = pd.read_csv('all_result.csv')"
   ]
  },
  {
   "cell_type": "code",
   "execution_count": null,
   "metadata": {},
   "outputs": [],
   "source": [
    "df.head()"
   ]
  },
  {
   "cell_type": "code",
   "execution_count": null,
   "metadata": {},
   "outputs": [],
   "source": [
    "plt.scatter(*zip(df.iloc[:, 1]))"
   ]
  },
  {
   "cell_type": "code",
   "execution_count": null,
   "metadata": {},
   "outputs": [],
   "source": [
    "*list(df.iloc[:, 1])"
   ]
  },
  {
   "cell_type": "code",
   "execution_count": null,
   "metadata": {},
   "outputs": [],
   "source": [
    "df.iloc[:, 1]"
   ]
  },
  {
   "cell_type": "code",
   "execution_count": null,
   "metadata": {
    "collapsed": true
   },
   "outputs": [],
   "source": [
    "type((df['Before'].iloc[0], df['After'].iloc[0]))"
   ]
  },
  {
   "cell_type": "code",
   "execution_count": null,
   "metadata": {
    "collapsed": true
   },
   "outputs": [],
   "source": [
    "#df['Before_After'] = pd.Series()\n",
    "#df['Asian']\n",
    "before_after = list()\n",
    "for i in range(df.shape[0]):\n",
    "    before_after.append(tuple((df['Before'].iloc[i], df['After'].iloc[i])))\n",
    "    #df['Asian'].iloc[i] = (0, 0)\n",
    "    "
   ]
  },
  {
   "cell_type": "code",
   "execution_count": null,
   "metadata": {
    "collapsed": true
   },
   "outputs": [],
   "source": [
    "df['Before_After'] = pd.Series(before_after)"
   ]
  },
  {
   "cell_type": "code",
   "execution_count": null,
   "metadata": {
    "collapsed": true
   },
   "outputs": [],
   "source": [
    "df.head()"
   ]
  },
  {
   "cell_type": "code",
   "execution_count": null,
   "metadata": {
    "collapsed": true
   },
   "outputs": [],
   "source": [
    "df.shape"
   ]
  },
  {
   "cell_type": "code",
   "execution_count": null,
   "metadata": {
    "collapsed": true
   },
   "outputs": [],
   "source": [
    "df_ = pd.pivot_table(df, index=['County'], columns=['Race']).reset_index()"
   ]
  },
  {
   "cell_type": "code",
   "execution_count": null,
   "metadata": {
    "collapsed": true
   },
   "outputs": [],
   "source": [
    "df_.shape"
   ]
  },
  {
   "cell_type": "code",
   "execution_count": null,
   "metadata": {
    "collapsed": true
   },
   "outputs": [],
   "source": [
    "df_.head()"
   ]
  },
  {
   "cell_type": "code",
   "execution_count": null,
   "metadata": {
    "collapsed": true
   },
   "outputs": [],
   "source": [
    "df_['After']['Black'].iloc[0]"
   ]
  },
  {
   "cell_type": "code",
   "execution_count": null,
   "metadata": {
    "collapsed": true
   },
   "outputs": [],
   "source": [
    "df[]"
   ]
  },
  {
   "cell_type": "code",
   "execution_count": null,
   "metadata": {
    "collapsed": true
   },
   "outputs": [],
   "source": [
    "df_['After']['Black'].iloc[0]"
   ]
  },
  {
   "cell_type": "code",
   "execution_count": null,
   "metadata": {
    "collapsed": true
   },
   "outputs": [],
   "source": [
    "b_before_after = list()\n",
    "w_before_after = list()\n",
    "h_before_after = list()\n",
    "\n",
    "for i in range(df_.shape[0]):\n",
    "    b_before_after.append(tuple((df_['Before']['Black'].iloc[i], df_['After']['Black'].iloc[i])))\n",
    "    w_before_after.append(tuple((df_['Before']['White'].iloc[i], df_['After']['White'].iloc[i])))\n",
    "    h_before_after.append(tuple((df_['Before']['Hispanic'].iloc[i], df_['After']['Hispanic'].iloc[i])))"
   ]
  },
  {
   "cell_type": "code",
   "execution_count": null,
   "metadata": {
    "collapsed": true
   },
   "outputs": [],
   "source": [
    "df_['Black'] = b_before_after\n",
    "df_['White'] = w_before_after\n",
    "df_['Hipanic'] = h_before_after"
   ]
  },
  {
   "cell_type": "code",
   "execution_count": null,
   "metadata": {
    "collapsed": true
   },
   "outputs": [],
   "source": [
    "df_.head()"
   ]
  },
  {
   "cell_type": "code",
   "execution_count": null,
   "metadata": {
    "collapsed": true
   },
   "outputs": [],
   "source": [
    "df_['County']"
   ]
  },
  {
   "cell_type": "code",
   "execution_count": null,
   "metadata": {
    "collapsed": true
   },
   "outputs": [],
   "source": [
    "df_.iloc[:, -3:]"
   ]
  },
  {
   "cell_type": "code",
   "execution_count": null,
   "metadata": {
    "collapsed": true
   },
   "outputs": [],
   "source": [
    "a_before_after = list()\n",
    "\n",
    "for i in range(df_.shape[0]):\n",
    "    a_before_after.append((0, 0))"
   ]
  },
  {
   "cell_type": "code",
   "execution_count": null,
   "metadata": {
    "collapsed": true
   },
   "outputs": [],
   "source": [
    "df_['Asian'] = pd.Series(a_before_after)"
   ]
  },
  {
   "cell_type": "code",
   "execution_count": null,
   "metadata": {
    "collapsed": true
   },
   "outputs": [],
   "source": [
    "df_.iloc[:, -4:].shape"
   ]
  },
  {
   "cell_type": "code",
   "execution_count": null,
   "metadata": {
    "collapsed": true
   },
   "outputs": [],
   "source": [
    "county = df_['County']"
   ]
  },
  {
   "cell_type": "code",
   "execution_count": null,
   "metadata": {
    "collapsed": true
   },
   "outputs": [],
   "source": [
    "df_final['County'] = county\n",
    "# df_final['County'] = df_['County']"
   ]
  },
  {
   "cell_type": "code",
   "execution_count": null,
   "metadata": {
    "collapsed": true
   },
   "outputs": [],
   "source": [
    "df_final.reset_index()"
   ]
  },
  {
   "cell_type": "code",
   "execution_count": null,
   "metadata": {
    "collapsed": true
   },
   "outputs": [],
   "source": [
    "df_final = df_.iloc[:, -4:]\n",
    "\n",
    "df_final.merge(df_['County'])\n",
    "\n",
    "df_final.head()"
   ]
  },
  {
   "cell_type": "code",
   "execution_count": null,
   "metadata": {
    "collapsed": true
   },
   "outputs": [],
   "source": [
    "df_final = pd.concat([df_final, df_['County']], axis=1)"
   ]
  },
  {
   "cell_type": "code",
   "execution_count": null,
   "metadata": {
    "collapsed": true
   },
   "outputs": [],
   "source": [
    "df_final.head()"
   ]
  },
  {
   "cell_type": "code",
   "execution_count": null,
   "metadata": {
    "collapsed": true
   },
   "outputs": [],
   "source": [
    "df_final.C"
   ]
  },
  {
   "cell_type": "code",
   "execution_count": null,
   "metadata": {
    "collapsed": true
   },
   "outputs": [],
   "source": [
    "df_final.shape"
   ]
  },
  {
   "cell_type": "code",
   "execution_count": null,
   "metadata": {
    "collapsed": true
   },
   "outputs": [],
   "source": [
    "df.head()"
   ]
  },
  {
   "cell_type": "code",
   "execution_count": null,
   "metadata": {
    "collapsed": true
   },
   "outputs": [],
   "source": [
    "df pd.pivot_table(df, index=['County', 'Race'])"
   ]
  }
 ],
 "metadata": {
  "kernelspec": {
   "display_name": "Python 3",
   "language": "python",
   "name": "python3"
  },
  "language_info": {
   "codemirror_mode": {
    "name": "ipython",
    "version": 3
   },
   "file_extension": ".py",
   "mimetype": "text/x-python",
   "name": "python",
   "nbconvert_exporter": "python",
   "pygments_lexer": "ipython3",
   "version": "3.6.3"
  }
 },
 "nbformat": 4,
 "nbformat_minor": 2
}
